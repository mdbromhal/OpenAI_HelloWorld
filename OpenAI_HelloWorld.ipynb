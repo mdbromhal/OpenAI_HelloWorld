{
  "nbformat": 4,
  "nbformat_minor": 0,
  "metadata": {
    "colab": {
      "provenance": []
    },
    "kernelspec": {
      "name": "python3",
      "display_name": "Python 3"
    },
    "language_info": {
      "name": "python"
    }
  },
  "cells": [
    {
      "cell_type": "markdown",
      "source": [
        "# OpenAI: Hello World!\n",
        "- Intro to gpt API\n",
        "\n",
        "- Source: https://github.com/malywut/gpt_examples.git"
      ],
      "metadata": {
        "id": "xD0n4hivReqo"
      }
    },
    {
      "cell_type": "code",
      "source": [
        "!pip install openai"
      ],
      "metadata": {
        "colab": {
          "base_uri": "https://localhost:8080/"
        },
        "id": "KiKy1MJZRnY8",
        "outputId": "5b5baeea-f2b3-427f-b37f-ec76ade418d2"
      },
      "execution_count": 3,
      "outputs": [
        {
          "output_type": "stream",
          "name": "stdout",
          "text": [
            "Collecting openai\n",
            "  Downloading openai-1.23.6-py3-none-any.whl (311 kB)\n",
            "\u001b[2K     \u001b[90m━━━━━━━━━━━━━━━━━━━━━━━━━━━━━━━━━━━━━━━━\u001b[0m \u001b[32m311.6/311.6 kB\u001b[0m \u001b[31m2.8 MB/s\u001b[0m eta \u001b[36m0:00:00\u001b[0m\n",
            "\u001b[?25hRequirement already satisfied: anyio<5,>=3.5.0 in /usr/local/lib/python3.10/dist-packages (from openai) (3.7.1)\n",
            "Requirement already satisfied: distro<2,>=1.7.0 in /usr/lib/python3/dist-packages (from openai) (1.7.0)\n",
            "Collecting httpx<1,>=0.23.0 (from openai)\n",
            "  Downloading httpx-0.27.0-py3-none-any.whl (75 kB)\n",
            "\u001b[2K     \u001b[90m━━━━━━━━━━━━━━━━━━━━━━━━━━━━━━━━━━━━━━━━\u001b[0m \u001b[32m75.6/75.6 kB\u001b[0m \u001b[31m6.5 MB/s\u001b[0m eta \u001b[36m0:00:00\u001b[0m\n",
            "\u001b[?25hRequirement already satisfied: pydantic<3,>=1.9.0 in /usr/local/lib/python3.10/dist-packages (from openai) (2.7.0)\n",
            "Requirement already satisfied: sniffio in /usr/local/lib/python3.10/dist-packages (from openai) (1.3.1)\n",
            "Requirement already satisfied: tqdm>4 in /usr/local/lib/python3.10/dist-packages (from openai) (4.66.2)\n",
            "Requirement already satisfied: typing-extensions<5,>=4.7 in /usr/local/lib/python3.10/dist-packages (from openai) (4.11.0)\n",
            "Requirement already satisfied: idna>=2.8 in /usr/local/lib/python3.10/dist-packages (from anyio<5,>=3.5.0->openai) (3.7)\n",
            "Requirement already satisfied: exceptiongroup in /usr/local/lib/python3.10/dist-packages (from anyio<5,>=3.5.0->openai) (1.2.1)\n",
            "Requirement already satisfied: certifi in /usr/local/lib/python3.10/dist-packages (from httpx<1,>=0.23.0->openai) (2024.2.2)\n",
            "Collecting httpcore==1.* (from httpx<1,>=0.23.0->openai)\n",
            "  Downloading httpcore-1.0.5-py3-none-any.whl (77 kB)\n",
            "\u001b[2K     \u001b[90m━━━━━━━━━━━━━━━━━━━━━━━━━━━━━━━━━━━━━━━━\u001b[0m \u001b[32m77.9/77.9 kB\u001b[0m \u001b[31m8.3 MB/s\u001b[0m eta \u001b[36m0:00:00\u001b[0m\n",
            "\u001b[?25hCollecting h11<0.15,>=0.13 (from httpcore==1.*->httpx<1,>=0.23.0->openai)\n",
            "  Downloading h11-0.14.0-py3-none-any.whl (58 kB)\n",
            "\u001b[2K     \u001b[90m━━━━━━━━━━━━━━━━━━━━━━━━━━━━━━━━━━━━━━━━\u001b[0m \u001b[32m58.3/58.3 kB\u001b[0m \u001b[31m6.2 MB/s\u001b[0m eta \u001b[36m0:00:00\u001b[0m\n",
            "\u001b[?25hRequirement already satisfied: annotated-types>=0.4.0 in /usr/local/lib/python3.10/dist-packages (from pydantic<3,>=1.9.0->openai) (0.6.0)\n",
            "Requirement already satisfied: pydantic-core==2.18.1 in /usr/local/lib/python3.10/dist-packages (from pydantic<3,>=1.9.0->openai) (2.18.1)\n",
            "Installing collected packages: h11, httpcore, httpx, openai\n",
            "Successfully installed h11-0.14.0 httpcore-1.0.5 httpx-0.27.0 openai-1.23.6\n"
          ]
        }
      ]
    },
    {
      "cell_type": "code",
      "execution_count": 5,
      "metadata": {
        "colab": {
          "base_uri": "https://localhost:8080/"
        },
        "id": "6i9IGUKCRYRr",
        "outputId": "ba218487-7694-4eab-d0a1-19a1440dc222"
      },
      "outputs": [
        {
          "output_type": "stream",
          "name": "stdout",
          "text": [
            "Collecting python-dotenv\n",
            "  Downloading python_dotenv-1.0.1-py3-none-any.whl (19 kB)\n",
            "Installing collected packages: python-dotenv\n",
            "Successfully installed python-dotenv-1.0.1\n"
          ]
        }
      ],
      "source": [
        "!pip install python-dotenv"
      ]
    },
    {
      "cell_type": "code",
      "source": [
        "from dotenv import load_dotenv\n",
        "import os\n",
        "from openai import OpenAI"
      ],
      "metadata": {
        "id": "ztMJ4w9XR1jH"
      },
      "execution_count": 8,
      "outputs": []
    },
    {
      "cell_type": "code",
      "source": [
        "# Setting the environment variable API key\n",
        "os.environ['OPENAI_API_KEY'] = 'sk-proj-FnRLRlnAJC5cP7FtPxxET3BlbkFJ19slC4sI0KtmdJJW2fwH' # Insert your API key here\n",
        "\n",
        "# Loading environment variables\n",
        "load_dotenv()"
      ],
      "metadata": {
        "colab": {
          "base_uri": "https://localhost:8080/"
        },
        "id": "06nMx1k5SK8_",
        "outputId": "4e21fed2-8187-4493-b50b-c7dbc91fba81"
      },
      "execution_count": 12,
      "outputs": [
        {
          "output_type": "execute_result",
          "data": {
            "text/plain": [
              "False"
            ]
          },
          "metadata": {},
          "execution_count": 12
        }
      ]
    },
    {
      "cell_type": "code",
      "source": [
        "# Creating a client to access the OpenAI API servies\n",
        "client = OpenAI()"
      ],
      "metadata": {
        "id": "7o4odHKQSAoq"
      },
      "execution_count": 13,
      "outputs": []
    },
    {
      "cell_type": "markdown",
      "source": [
        "## Hello World!"
      ],
      "metadata": {
        "id": "uvgVDbENTtUd"
      }
    },
    {
      "cell_type": "code",
      "source": [
        "# Calling the openai ChatCompletion endpoint\n",
        "# ChatGPT model = gpt-3.5-turbo\n",
        "response = client.chat.completions.create(model='gpt-3.5-turbo',\n",
        "                                          messages = [\n",
        "                                              {'role': 'user', 'content': 'Hello World!'}\n",
        "                                          ])"
      ],
      "metadata": {
        "id": "m0OXlo5kSc9n"
      },
      "execution_count": 17,
      "outputs": []
    },
    {
      "cell_type": "code",
      "source": [
        "# Extracting the response\n",
        "print(response.choices[0].message.content)"
      ],
      "metadata": {
        "colab": {
          "base_uri": "https://localhost:8080/"
        },
        "id": "tougVCD2TGfM",
        "outputId": "1129a2da-1be3-4e9d-cb93-199cf94d2ebd"
      },
      "execution_count": 18,
      "outputs": [
        {
          "output_type": "stream",
          "name": "stdout",
          "text": [
            "Hello! How can I assist you today?\n"
          ]
        }
      ]
    },
    {
      "cell_type": "markdown",
      "source": [
        "## Where are my socks?"
      ],
      "metadata": {
        "id": "d-euW8JxTvB9"
      }
    },
    {
      "cell_type": "code",
      "source": [
        "# role = assistant\n",
        "response = client.chat.completions.create(model='gpt-3.5-turbo',\n",
        "                                          messages = [\n",
        "                                              {'role': 'assistant', 'content': 'Where are my socks?'}\n",
        "                                          ])"
      ],
      "metadata": {
        "id": "BL0yV82oTlEM"
      },
      "execution_count": 22,
      "outputs": []
    },
    {
      "cell_type": "code",
      "source": [
        "print(response.choices[0].message.content)"
      ],
      "metadata": {
        "colab": {
          "base_uri": "https://localhost:8080/"
        },
        "id": "tS3pFvuUTpvY",
        "outputId": "2060e6a3-cbbc-4a02-fe85-5a685e413c88"
      },
      "execution_count": 23,
      "outputs": [
        {
          "output_type": "stream",
          "name": "stdout",
          "text": [
            "I don't know where your socks are. You might want to check your sock drawer, laundry hamper, or the dryer.\n"
          ]
        }
      ]
    },
    {
      "cell_type": "code",
      "source": [
        "# role = user\n",
        "response = client.chat.completions.create(model='gpt-3.5-turbo',\n",
        "                                          messages = [\n",
        "                                              {'role': 'user', 'content': 'Where are my socks?'}\n",
        "                                          ])\n",
        "print(response.choices[0].message.content)"
      ],
      "metadata": {
        "colab": {
          "base_uri": "https://localhost:8080/"
        },
        "id": "srXKpHUeUD4v",
        "outputId": "a503291b-4b44-4225-9611-b0cc711883f2"
      },
      "execution_count": 24,
      "outputs": [
        {
          "output_type": "stream",
          "name": "stdout",
          "text": [
            "I am not able to physically see or locate your socks as I am an AI assistant. I recommend checking your sock drawer, laundry room, or anywhere you typically store your socks. If you still can't find them, you may have to purchase some new socks.\n"
          ]
        }
      ]
    },
    {
      "cell_type": "markdown",
      "source": [
        "- It's interesting that the user role resulted in a longer output"
      ],
      "metadata": {
        "id": "bpmSsBGHUMXu"
      }
    },
    {
      "cell_type": "markdown",
      "source": [
        "## What do you think of guinea pigs?"
      ],
      "metadata": {
        "id": "6_e-DorGUSiV"
      }
    },
    {
      "cell_type": "code",
      "source": [
        "# role = assistant\n",
        "response = client.chat.completions.create(model='gpt-3.5-turbo',\n",
        "                                          messages = [\n",
        "                                              {'role': 'assistant', 'content': 'What do you think of guinea pigs?'}\n",
        "                                          ])\n",
        "print(response.choices[0].message.content)"
      ],
      "metadata": {
        "colab": {
          "base_uri": "https://localhost:8080/"
        },
        "id": "7TQ6WCkJUVlG",
        "outputId": "25a6ca8b-c47c-4546-841d-885d14e5acdf"
      },
      "execution_count": 25,
      "outputs": [
        {
          "output_type": "stream",
          "name": "stdout",
          "text": [
            "Guinea pigs are small, social animals that make great pets. They have some special care requirements, such as needing a spacious living area with plenty of room to explore and exercise. They also require a diet high in vitamin C and regular grooming to keep their coats healthy. Overall, guinea pigs can be wonderful companions for those willing to provide them with the proper care and attention.\n"
          ]
        }
      ]
    },
    {
      "cell_type": "code",
      "source": [
        "# role = user\n",
        "response = client.chat.completions.create(model='gpt-3.5-turbo',\n",
        "                                          messages = [\n",
        "                                              {'role': 'user', 'content': 'What do you think of guinea pigs?'}\n",
        "                                          ])\n",
        "print(response.choices[0].message.content)"
      ],
      "metadata": {
        "colab": {
          "base_uri": "https://localhost:8080/"
        },
        "id": "J5lozMUYUfmD",
        "outputId": "a9c5454a-7570-4aa8-ce19-17d6463330ad"
      },
      "execution_count": 26,
      "outputs": [
        {
          "output_type": "stream",
          "name": "stdout",
          "text": [
            "Guinea pigs are often considered to be cute and cuddly pets. They are known for their friendly and sociable nature, making them popular choices for families. Additionally, they are relatively low maintenance and can be easy to care for. Overall, guinea pigs make great companions for those looking for a small and lovable pet.\n"
          ]
        }
      ]
    }
  ]
}